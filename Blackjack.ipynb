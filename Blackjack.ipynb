{
 "cells": [
  {
   "cell_type": "markdown",
   "metadata": {
    "id": "-fribDKVl_o_"
   },
   "source": [
    "## Python Blackjack\n",
    "For this project you will make a Blackjack game using Python. Click <a href=\"\">here</a> to familiarize yourself with the the rules of the game. You won't be implementing every rule \"down to the letter\" with the game, but we will doing a simpler version of the game. This assignment will be given to further test your knowledge on object-oriented programming concepts.\n",
    "\n",
    "### Rules:\n",
    "\n",
    "`1. ` The game will have two players: the Dealer and the Player. The game will start off with a deck of 52 cards. The 52 cards will consist of 4 different suits: Clubs, Diamonds, Hearts and Spades. For each suit, there will be cards numbered 1 through 13. <br>\n",
    "**Note: No wildcards will be used in the program.**<br>\n",
    "**Note: For the sake of simplicity, You do not have to write any logic to figure out how to handle face cards. Simply give the cards values between 1-13.**\n",
    "\n",
    "`2. ` When the game begins, the dealer will shuffle the deck of cards, making them randomized. After the dealer shuffles, it will deal the player 2 cards and will deal itself 2 cards from. The Player should be able to see both of their own cards, but should only be able to see one of the Dealer's cards.\n",
    " \n",
    "`3. ` The objective of the game is for the Player to count their cards after they're dealt. If they're not satisfied with the number, they have the ability to 'Hit'. A hit allows the dealer to deal the Player one additional card. The Player can hit as many times as they'd like as long as they don't 'Bust'. A bust is when the Player is dealt cards that total more than 21.\n",
    "\n",
    "`4. ` If the dealer deals the Player cards equal to 21 on the **first** deal, the Player wins. This is referred to as Blackjack. Blackjack is **NOT** the same as getting cards that equal up to 21 after the first deal. Blackjack can only be attained on the first deal.\n",
    "\n",
    "`5. ` The Player will never see the Dealer's hand until the Player chooses to 'stand'. A Stand is when the player tells the dealer to not deal it anymore cards. Once the player chooses to Stand, the Player and the Dealer will compare their hands. Whoever has the higher number wins. Keep in mind that the Dealer can also bust. "
   ]
  },
  {
   "cell_type": "code",
   "execution_count": 4,
   "metadata": {
    "id": "SXFHwL62l_pD"
   },
   "outputs": [
    {
     "name": "stdout",
     "output_type": "stream",
     "text": [
      "The dealer deals themself one card faceup:\n",
      "13 of Hearts\n",
      "And one card facedown.\n"
     ]
    },
    {
     "ename": "KeyboardInterrupt",
     "evalue": "",
     "output_type": "error",
     "traceback": [
      "\u001b[1;31m---------------------------------------------------------------------------\u001b[0m",
      "\u001b[1;31mKeyboardInterrupt\u001b[0m                         Traceback (most recent call last)",
      "Cell \u001b[1;32mIn [4], line 237\u001b[0m\n\u001b[0;32m    234\u001b[0m         \u001b[39mprint\u001b[39m(\u001b[39m\"\u001b[39m\u001b[39mCome back when you want to live and are ready to show it.\u001b[39m\u001b[39m\"\u001b[39m)\n\u001b[0;32m    235\u001b[0m     \u001b[39mpass\u001b[39;00m\n\u001b[1;32m--> 237\u001b[0m main()\n",
      "Cell \u001b[1;32mIn [4], line 232\u001b[0m, in \u001b[0;36mmain\u001b[1;34m()\u001b[0m\n\u001b[0;32m    230\u001b[0m     \u001b[39minput\u001b[39m(\u001b[39m'\u001b[39m\u001b[39mVery good...\u001b[39m\u001b[39m'\u001b[39m)\n\u001b[0;32m    231\u001b[0m     name \u001b[39m=\u001b[39m Human(name)\n\u001b[1;32m--> 232\u001b[0m     game \u001b[39m=\u001b[39m On(name)\n\u001b[0;32m    233\u001b[0m \u001b[39melif\u001b[39;00m choice \u001b[39m==\u001b[39m \u001b[39m'\u001b[39m\u001b[39mn\u001b[39m\u001b[39m'\u001b[39m:\n\u001b[0;32m    234\u001b[0m     \u001b[39mprint\u001b[39m(\u001b[39m\"\u001b[39m\u001b[39mCome back when you want to live and are ready to show it.\u001b[39m\u001b[39m\"\u001b[39m)\n",
      "Cell \u001b[1;32mIn [4], line 115\u001b[0m, in \u001b[0;36mOn.__init__\u001b[1;34m(self, player)\u001b[0m\n\u001b[0;32m    113\u001b[0m \u001b[39mself\u001b[39m\u001b[39m.\u001b[39mplayer \u001b[39m=\u001b[39m player\n\u001b[0;32m    114\u001b[0m deck\u001b[39m.\u001b[39mshuffle_cards()\n\u001b[1;32m--> 115\u001b[0m \u001b[39mself\u001b[39;49m\u001b[39m.\u001b[39;49mdeal_cards(player, \u001b[39mself\u001b[39;49m\u001b[39m.\u001b[39;49mdealer, deck)\n",
      "Cell \u001b[1;32mIn [4], line 123\u001b[0m, in \u001b[0;36mOn.deal_cards\u001b[1;34m(self, player, dealer, deck)\u001b[0m\n\u001b[0;32m    121\u001b[0m \u001b[39mprint\u001b[39m(\u001b[39m\"\u001b[39m\u001b[39mAnd one card facedown.\u001b[39m\u001b[39m\"\u001b[39m)\n\u001b[0;32m    122\u001b[0m dealer\u001b[39m.\u001b[39mdraw(deck)\n\u001b[1;32m--> 123\u001b[0m d_score \u001b[39m=\u001b[39m dealer\u001b[39m.\u001b[39;49mhit_or_stand(deck)\n\u001b[0;32m    124\u001b[0m \u001b[39mif\u001b[39;00m d_score \u001b[39m>\u001b[39m \u001b[39m21\u001b[39m:\n\u001b[0;32m    125\u001b[0m     \u001b[39mself\u001b[39m\u001b[39m.\u001b[39mdealer_bust(player, dealer, deck)\n",
      "Cell \u001b[1;32mIn [4], line 88\u001b[0m, in \u001b[0;36mDealer.hit_or_stand\u001b[1;34m(self, deck)\u001b[0m\n\u001b[0;32m     86\u001b[0m     \u001b[39mself\u001b[39m\u001b[39m.\u001b[39mdraw_faceup(deck)\n\u001b[0;32m     87\u001b[0m     score \u001b[39m=\u001b[39m \u001b[39mself\u001b[39m\u001b[39m.\u001b[39mcheck_score()\n\u001b[1;32m---> 88\u001b[0m \u001b[39melif\u001b[39;00m score \u001b[39m>\u001b[39;49m \u001b[39m17\u001b[39;49m:\n\u001b[0;32m     89\u001b[0m     \u001b[39mreturn\u001b[39;00m score\n",
      "\u001b[1;31mKeyboardInterrupt\u001b[0m: "
     ]
    }
   ],
   "source": [
    "import random\n",
    "\n",
    "class Deck():\n",
    "    def __init__(self):\n",
    "        self.cards= []\n",
    "        self.build()\n",
    "        \n",
    "        \n",
    "    def build(self):\n",
    "        for s in ['Spades', 'Clubs', 'Diamonds', 'Hearts']:\n",
    "            for v in range(1,14):\n",
    "                self.cards.append(Card(s, v))\n",
    "                \n",
    "    def show(self):\n",
    "        for c in self.cards:\n",
    "            c.show()\n",
    "            \n",
    "    def shuffle_cards(self):\n",
    "        random.shuffle(self.cards)\n",
    "    \n",
    "    def draw_card(self):\n",
    "        return self.cards.pop()\n",
    "    \n",
    "    \n",
    "class Card():\n",
    "    def __init__(self, suit, val):\n",
    "        self.suit = suit\n",
    "        self.val = val\n",
    "    \n",
    "    def show(self):\n",
    "        print(f\"{self.val} of {self.suit}\")\n",
    "        \n",
    "    def __str__(self):\n",
    "        return f\"{self.val} of {self.suit}\"\n",
    "\n",
    "    def __repr__(self) -> str:\n",
    "        return f'{self.val} of {self.suit}'\n",
    "\n",
    "    def check_val(self):\n",
    "        print(self.val)\n",
    "\n",
    "    \n",
    "class Player:\n",
    "    def __init__(self, name):\n",
    "        self.name = name\n",
    "        self.hand = []\n",
    "    \n",
    "    def draw(self, deck):\n",
    "        self.hand.append(deck.draw_card())\n",
    "        return self\n",
    "\n",
    "    def check_score(self):\n",
    "        score = 0\n",
    "        for object in self.hand:\n",
    "            score += object.val\n",
    "        return score\n",
    "    \n",
    "    def draw_faceup(self, deck):\n",
    "#         face_up = deck.draw_card()\n",
    "#         print(face_up)\n",
    "        self.hand.append(deck.draw_card())\n",
    "        self.hand[-1].show()\n",
    "        \n",
    "    \n",
    "    def show_hand(self):\n",
    "        print(f\"{self.name}'s hand:\")\n",
    "        for card in self.hand:\n",
    "            card.show()\n",
    "        \n",
    "    def discard(self):\n",
    "        print(f'{self.name} discards their hand')\n",
    "        self.hand = []\n",
    "    \n",
    "\n",
    "class Dealer(Player):\n",
    "    def __init__ (self, name='Dealer'):\n",
    "        self.name = name\n",
    "        self.score = 0\n",
    "        super().__init__(name)\n",
    "\n",
    "    def hit_or_stand(self, deck):\n",
    "        score = self.check_score()\n",
    "        while True:\n",
    "            if score < 17:\n",
    "                print('And flips one more faceup.')\n",
    "                self.draw_faceup(deck)\n",
    "                score = self.check_score()\n",
    "            elif score > 17:\n",
    "                return score\n",
    "            \n",
    "    def player_look(self):\n",
    "        print(f\"{self.name}'s hand:\")\n",
    "        for card in self.hand:\n",
    "            if card == self.hand[1]:\n",
    "                pass\n",
    "            else:\n",
    "                card.show()\n",
    "                \n",
    "    \n",
    "\n",
    "\n",
    "class Human(Player):\n",
    "    def __init__ (self, name):\n",
    "        self.name = name\n",
    "        self.score = 0\n",
    "        super().__init__(name)\n",
    "        \n",
    "\n",
    "class On:\n",
    "    def __init__ (self, player):\n",
    "        deck = Deck()\n",
    "        self.dealer = Dealer()\n",
    "        self.player = player\n",
    "        deck.shuffle_cards()\n",
    "        self.deal_cards(player, self.dealer, deck)\n",
    "        \n",
    "        \n",
    "    def deal_cards(self, player, dealer, deck):\n",
    "        print(\"The dealer deals themself one card faceup:\")\n",
    "        dealer.draw_faceup(deck)\n",
    "        print(\"And one card facedown.\")\n",
    "        dealer.draw(deck)\n",
    "        d_score = dealer.hit_or_stand(deck)\n",
    "        if d_score > 21:\n",
    "            self.dealer_bust(player, dealer, deck)\n",
    "        else:\n",
    "            print(\"And the dealer deals you two cards.\")\n",
    "            player.draw(deck)\n",
    "            player.draw(deck)\n",
    "            player.show_hand()\n",
    "            self.check_and_hit(player, dealer, deck)\n",
    "\n",
    "\n",
    "    def check_and_hit(self, player, dealer, deck):\n",
    "        p_score = player.check_score()\n",
    "        if p_score == 21:\n",
    "            self.player_blackjack(player, dealer, deck)\n",
    "        elif p_score > 21:\n",
    "            print(\"You bust! Now your soul will be mine forever!\")\n",
    "            print(\"^\"*13)\n",
    "            choice = input(\"Would you like to try again?\")\n",
    "            if choice == 'y' or choice == 'yes':\n",
    "                self.deal_cards(self, player, dealer, deck)\n",
    "            elif choice == 'n':\n",
    "                print(\"Mmm. Defeat adds a pleasant bitterness to your soul...\")\n",
    "        else:\n",
    "            self.player_prompt(player, dealer, deck)\n",
    "\n",
    "    def player_prompt(self, player, dealer, deck):\n",
    "         while True:\n",
    "            choice = input(\"Would you like to (H)it or (S)tand?\").lower().strip()\n",
    "            if choice == 'h' or choice == 'hit':\n",
    "                player.draw(deck)\n",
    "                player.show_hand()\n",
    "                p_score = player.check_score()\n",
    "                if p_score == 21:\n",
    "                    self.player_win(player, dealer, deck)\n",
    "                elif p_score > 21:\n",
    "                    self.player_bust(player, dealer, deck)\n",
    "               \n",
    "            elif choice == 's' or choice == 'stand':\n",
    "                p_score = self.card_reveal(player)\n",
    "                d_score = self.card_reveal(dealer)\n",
    "                if p_score > d_score:\n",
    "                    \n",
    "                    print(f\"\"\"Player Score: {p_score}\n",
    "Dealer Score: {d_score}\"\"\")\n",
    "                    self.player_win(player, dealer, deck)\n",
    "                    break\n",
    "                elif d_score >= p_score:\n",
    "                    print(f\"\"\"Player Score: {p_score}\n",
    "Dealer Score: {d_score}\"\"\")\n",
    "                    self.player_loss(player, dealer, deck)\n",
    "                    break\n",
    "            elif choice == 'l' or choice == 'look':\n",
    "                dealer.player_look()\n",
    "\n",
    "    def card_reveal(self, player):\n",
    "        player.show_hand() \n",
    "        \n",
    "        return player.check_score()\n",
    "                \n",
    "\n",
    "    def player_blackjack(self, player, dealer, deck):\n",
    "        print('~='*9)\n",
    "        print(\"Blackjack! You Win\")\n",
    "        print('~='*9)\n",
    "        self.start_again(player, dealer, deck)\n",
    "            \n",
    "    def player_win(self, player, dealer, deck):\n",
    "        print('~='*9)\n",
    "        print(\"You Win\")\n",
    "        print('~='*9)\n",
    "        self.start_again(player, dealer, deck)\n",
    "\n",
    "    def player_bust(self, player, dealer, deck):\n",
    "        print(\"You bust! Now your soul will be mine forever!\")\n",
    "        print(\"^\"*13*3)\n",
    "        self.start_again(player, dealer, deck)\n",
    "\n",
    "    def player_loss(self, player, dealer, deck):\n",
    "        print(\"You lose! Now your soul will be mine forever!\")\n",
    "        print(\"^\"*13*3)\n",
    "        self.start_again(player, dealer, deck)\n",
    "\n",
    "    def dealer_bust(self, player, dealer, deck):\n",
    "        print('~='*9)\n",
    "        print(\"Dealer bust! You Win\")\n",
    "        print('~='*9)\n",
    "        self.dealer.show_hand()\n",
    "        self.start_again(player, dealer, deck)\n",
    "            \n",
    "    def start_again(self, player, dealer, deck):\n",
    "        self.player.discard()\n",
    "        self.dealer.discard()\n",
    "        while True:\n",
    "            choice = input(\"Would you like to play another game?\")\n",
    "            if choice == 'y' or choice == 'yes':\n",
    "                self.deal_cards(player, dealer, deck)\n",
    "            elif choice == 'n' or choice == 'no':\n",
    "                print(\"You've bested me this time. It is wise to not push your luck.\")\n",
    "            else:\n",
    "                print(\"That wasn't what I was looking for. (y/n)\")\n",
    "        \n",
    "\n",
    "def main():\n",
    "    choice = input(\"Do you want to play a game?\").lower().strip()\n",
    "    if choice == 'y' or choice == 'yes':\n",
    "        name = input(\"What is your name, so I know who I will beat into oblivion?\")\n",
    "        input('Very good...')\n",
    "        name = Human(name)\n",
    "        game = On(name)\n",
    "    elif choice == 'n':\n",
    "        print(\"Come back when you want to live and are ready to show it.\")\n",
    "    pass\n",
    "\n",
    "main()"
   ]
  },
  {
   "cell_type": "code",
   "execution_count": null,
   "metadata": {},
   "outputs": [],
   "source": [
    "\n"
   ]
  },
  {
   "cell_type": "code",
   "execution_count": null,
   "metadata": {},
   "outputs": [],
   "source": []
  },
  {
   "cell_type": "code",
   "execution_count": null,
   "metadata": {},
   "outputs": [
    {
     "data": {
      "text/plain": [
       "<__main__.Card at 0x18577632fd0>"
      ]
     },
     "execution_count": 76,
     "metadata": {},
     "output_type": "execute_result"
    }
   ],
   "source": []
  },
  {
   "cell_type": "code",
   "execution_count": null,
   "metadata": {},
   "outputs": [
    {
     "name": "stdout",
     "output_type": "stream",
     "text": [
      "6 of Clubs\n",
      "2 of Clubs\n",
      "2 of Spades\n"
     ]
    }
   ],
   "source": []
  },
  {
   "cell_type": "code",
   "execution_count": null,
   "metadata": {},
   "outputs": [
    {
     "name": "stdout",
     "output_type": "stream",
     "text": [
      "9 of Hearts\n"
     ]
    }
   ],
   "source": []
  },
  {
   "cell_type": "code",
   "execution_count": 6,
   "metadata": {},
   "outputs": [
    {
     "ename": "NameError",
     "evalue": "name 'game' is not defined",
     "output_type": "error",
     "traceback": [
      "\u001b[1;31m---------------------------------------------------------------------------\u001b[0m",
      "\u001b[1;31mNameError\u001b[0m                                 Traceback (most recent call last)",
      "Cell \u001b[1;32mIn [6], line 1\u001b[0m\n\u001b[1;32m----> 1\u001b[0m game\u001b[39m.\u001b[39mself\u001b[39m.\u001b[39mdeck\u001b[39m.\u001b[39mshow()\n",
      "\u001b[1;31mNameError\u001b[0m: name 'game' is not defined"
     ]
    }
   ],
   "source": [
    "\n"
   ]
  },
  {
   "cell_type": "code",
   "execution_count": null,
   "metadata": {},
   "outputs": [],
   "source": []
  }
 ],
 "metadata": {
  "colab": {
   "provenance": []
  },
  "kernelspec": {
   "display_name": "Python 3 (ipykernel)",
   "language": "python",
   "name": "python3"
  },
  "language_info": {
   "codemirror_mode": {
    "name": "ipython",
    "version": 3
   },
   "file_extension": ".py",
   "mimetype": "text/x-python",
   "name": "python",
   "nbconvert_exporter": "python",
   "pygments_lexer": "ipython3",
   "version": "3.9.12"
  },
  "vscode": {
   "interpreter": {
    "hash": "ef32b81f0b2c94112148f9a96d81c5672ba62a54109979e68061907948590454"
   }
  }
 },
 "nbformat": 4,
 "nbformat_minor": 1
}
